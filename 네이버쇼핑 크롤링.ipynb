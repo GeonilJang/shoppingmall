{
 "cells": [
  {
   "cell_type": "code",
   "execution_count": 5,
   "metadata": {},
   "outputs": [],
   "source": [
    "import requests\n",
    "url =\"https://search.shopping.naver.com/search/all.nhn\"\n",
    "params={'query':'코트'}\n",
    "res = requests.get(url,params=params)\n"
   ]
  },
  {
   "cell_type": "code",
   "execution_count": 10,
   "metadata": {},
   "outputs": [],
   "source": [
    "html = res.text"
   ]
  },
  {
   "cell_type": "code",
   "execution_count": 11,
   "metadata": {},
   "outputs": [],
   "source": [
    "def trim(s):\n",
    "    return ' '.join(s.split())"
   ]
  },
  {
   "cell_type": "code",
   "execution_count": 7,
   "metadata": {},
   "outputs": [],
   "source": [
    "from bs4 import BeautifulSoup\n",
    "\n",
    "soup = BeautifulSoup(html, 'html.parser')"
   ]
  },
  {
   "cell_type": "code",
   "execution_count": 17,
   "metadata": {},
   "outputs": [
    {
     "name": "stdout",
     "output_type": "stream",
     "text": [
      "[ZIOSONGZIO] ZTT20001 - Light Gray 감성 스타일 오버사이즈 트렌츠 코트 169000 https://shopping-phinf.pstatic.net/main_8025212/80252128728.2.jpg?type=f140\n",
      "프렌치 체크 트렌치코트(블랙 / 베이지) 59000 https://shopping-phinf.pstatic.net/main_1371921/13719217074.2.jpg?type=f140\n",
      "진도끌레베 롱 밍크코트 레오파드 MC87 654500 https://shopping-phinf.pstatic.net/main_1460325/14603256134.jpg?type=f140\n",
      "트렘블 봄 싱글 코트 87000 https://shopping-phinf.pstatic.net/main_1220400/12204005438.2.jpg?type=f140\n",
      "데코 시티리버시블 코트(DCJH71101W) 179800 https://shopping-phinf.pstatic.net/main_8070127/80701276004.jpg?type=f140\n",
      "데코 시티리버시블 코트(DCJH71101W) 179800 https://shopping-phinf.pstatic.net/main_8070127/80701276003.jpg?type=f140\n",
      "비키 17겨울 핸드메이드 알파카 오버핏 코트 TRHRY2618 71280 https://shopping-phinf.pstatic.net/main_1452863/14528637924.20180613203132.jpg?type=f140\n",
      "ZOOC 쥬크 zooc 캐시미어혼방 일자핏 핸드메이드 코트 Z174MSG533 128880 https://shopping-phinf.pstatic.net/main_1473972/14739724214.20180708165144.jpg?type=f140\n",
      "이지오 이지오옴므 세미오버핏 6종 연카키 스카이블루 와인 코트 e E48HCB31 E48HCB32 E48HCB33 E48HCB34 E48HCB35 69000 https://shopping-phinf.pstatic.net/main_1477611/14776110442.20180712224550.jpg?type=f140\n",
      "더아이잗 더블버튼 배색 울코트 여성 IHAA0CT03 118520 https://shopping-phinf.pstatic.net/main_1458331/14583313283.20180620200717.jpg?type=f140\n",
      "듀엘 000원 캐시미어혼방 핸드메이드코트 D174MSG526 191340 https://shopping-phinf.pstatic.net/main_1460647/14606477758.20180622175917.jpg?type=f140\n",
      "시슬리 sisley 신세계경기점 캐시미어 코트 SACT38761 270150 https://shopping-phinf.pstatic.net/main_1434989/14349890882.20180520185003.jpg?type=f140\n",
      "해외18FW 막스마라 ADDA 코트 2259800 https://shopping-phinf.pstatic.net/main_1471772/14717721759.jpg?type=f140\n",
      "진도끌레베 밍크 휘메일 후디 롱코트 ec61 2445300 https://shopping-phinf.pstatic.net/main_1466946/14669464910.20180629184221.jpg?type=f140\n",
      "안지크 밍크 케이프 DC4MI2990 1990000 https://shopping-phinf.pstatic.net/main_1471283/14712836149.20180704213308.jpg?type=f140\n",
      "데코 리버시블 숏무스탕 FDJU74931B 358000 https://shopping-phinf.pstatic.net/main_1444445/14444457470.20180603002258.jpg?type=f140\n",
      "해외[MaxMara] 막스마라 테디 베어 아이콘 코트 2836000 https://shopping-phinf.pstatic.net/main_8068515/80685155556.jpg?type=f140\n",
      "나이스크랍 nice claup 벨티드 핸드메이드 하프코트 N181XSG401 63180 https://shopping-phinf.pstatic.net/main_1479426/14794268071.20180715190415.jpg?type=f140\n",
      "린 기획특가 베이직 캐주얼자켓 심플코트 LGHCGJ4400 59000 https://shopping-phinf.pstatic.net/main_1473959/14739596747.20180708163655.jpg?type=f140\n",
      "CityGee 빅 폭스 후드 리버시블 무스탕 994000 https://shopping-phinf.pstatic.net/main_1480534/14805340682.1.jpg?type=f140\n",
      "듀엘 소매프릴 핸드메이드 코트 D174MSG514 331650 https://shopping-phinf.pstatic.net/main_1255175/12551756862.20180105171640.jpg?type=f140\n",
      "화이트폭스 여름신상 휴가준비!! 핫한 썸머룩~ 토탈룩 예쁨가득! 멀티코디룩! 11900 https://shopping-phinf.pstatic.net//20180717_23/ebae6c5b-c61e-4aa8-9c5f-c0628daa919e.jpg?type=ofullfill_200_200\n",
      "세컨플로어 롱더블 트렌치코트 SWMQ3WH00100 130500 https://shopping-phinf.pstatic.net/main_1466162/14661622401.20180628192638.jpg?type=f140\n",
      "[로썸스튜디오/에고이스트]지금 딱 필요한 스트라이프티셔츠/원피스/명품 外 15920 https://shopping-phinf.pstatic.net//20180619_23/8364aa56-bb63-4490-aadf-4e743aa7a37f.jpg?type=ofullfill_200_200\n",
      "시슬리 폭스퍼후드페이크무스탕 sa LE33761 385690 https://shopping-phinf.pstatic.net/main_1463083/14630834132.20180625194640.jpg?type=f140\n",
      "지컷 18가을 베이직페미닌트렌치코트 센터시티 140330 https://shopping-phinf.pstatic.net/main_1473538/14735389105.20180707201910.jpg?type=f140\n",
      "씨씨콜렉트 cc 콜렉트 캐시미어 폭스퍼 멋스런코트 C174MSG009 229680 https://shopping-phinf.pstatic.net/main_1430815/14308153588.20180528044508.jpg?type=f140\n",
      "지오송지오 코트ZSW21131 169000 https://shopping-phinf.pstatic.net/main_8046711/80467118470.jpg?type=f140\n",
      "진도끌레베 진도 끌레베 폭스 트리밍 후드 롱 밍크 코트 mc85 899910 https://shopping-phinf.pstatic.net/main_1458315/14583155222.20180620192833.jpg?type=f140\n",
      "티아이포맨 f 세미오버 코트 2종택 M178MCT900 148060 https://shopping-phinf.pstatic.net/main_1473531/14735311473.20180707195346.jpg?type=f140\n",
      "시슬리 폭스퍼 무스탕 salec1761wi422 375200 https://shopping-phinf.pstatic.net/main_1454924/14549248282.20180616172451.jpg?type=f140\n",
      "비키 17겨울 폭스 퍼 탈부착 알파카 코트 TRHAY2629 71280 https://shopping-phinf.pstatic.net/main_1444940/14449407482.20180603230006.jpg?type=f140\n",
      "세컨플로어 캐시미어 코트 SWMQ4WH60000 345000 https://shopping-phinf.pstatic.net/main_1477605/14776053520.20180712221315.jpg?type=f140\n",
      "퍼트리밍코트 베스띠벨리 BRH2666 138460 https://shopping-phinf.pstatic.net/main_1457423/14574237413.20180619174406.jpg?type=f140\n",
      "티아이포맨 f 캐시미어혼방 오버핏 모직코트 M178MCT907 109710 https://shopping-phinf.pstatic.net/main_1476404/14764046238.20180711194522.jpg?type=f140\n",
      "리스트 베이직 심플 울 코트 TWHCTG80070 PI 52230 https://shopping-phinf.pstatic.net/main_1315463/13154631504.20180105102426.jpg?type=f140\n",
      "폭스 후드 코트 티렌 T174MSG021 156130 https://shopping-phinf.pstatic.net/main_1444535/14445357389.20180603020228.jpg?type=f140\n",
      "세컨플로어 15예약배송 겨울 노카라 칼라배색 페이크 퍼 숏 코트 SWMR4FN040 105759 https://shopping-phinf.pstatic.net/main_1449939/14499393889.20180609191535.jpg?type=f140\n",
      "2001아울렛 라인 코트 PNC02 NWHCGK65 NWHCGK6500 41400 https://shopping-phinf.pstatic.net/main_1453654/14536544208.20180614231036.jpg?type=f140\n",
      "톰보이 캐시미어 핸드메이드 롱 코트 107790 https://shopping-phinf.pstatic.net/main_1471288/14712880390.20180704215022.jpg?type=f140\n",
      "톰보이 오버사이즈코트 46130 https://shopping-phinf.pstatic.net/main_1472107/14721079062.20180705193548.jpg?type=f140\n",
      "카이아크만 S/S 대전 바캉스룩 제안 2900 https://shopping-phinf.pstatic.net//20180712_29/4292cce4-de7e-46c7-8bfd-9bee9eab1c8a.jpg?type=ofullfill_200_200\n",
      "씨씨콜렉트 cc 콜렉트 캐시미어기본코트 C174MSG513 288550 https://shopping-phinf.pstatic.net/main_1449989/14499897038.20180609201102.jpg?type=f140\n",
      "[현대백화점 판교점][온앤온] 역시즌아우터 / 썸머룩 63200 https://shopping-phinf.pstatic.net//20180717_7/70e84860-af04-4d74-8551-9eedf7f7652c.jpg?type=ofullfill_200_200\n"
     ]
    }
   ],
   "source": [
    "for item_tag in soup.select('#_search_list ._itemSection'):\n",
    "    name = trim(item_tag.select('a.tit')[0].text)\n",
    "    price = trim(item_tag.select('.price .num')[0].text).replace(',','')\n",
    "    img_url = item_tag.select('img[data-original]')[0]['data-original']\n",
    "    print(name, price, img_url)"
   ]
  },
  {
   "cell_type": "code",
   "execution_count": null,
   "metadata": {},
   "outputs": [],
   "source": []
  }
 ],
 "metadata": {
  "kernelspec": {
   "display_name": "Django Shell-Plus",
   "language": "python",
   "name": "django_extensions"
  },
  "language_info": {
   "codemirror_mode": {
    "name": "ipython",
    "version": 3
   },
   "file_extension": ".py",
   "mimetype": "text/x-python",
   "name": "python",
   "nbconvert_exporter": "python",
   "pygments_lexer": "ipython3",
   "version": "3.6.5"
  }
 },
 "nbformat": 4,
 "nbformat_minor": 2
}
